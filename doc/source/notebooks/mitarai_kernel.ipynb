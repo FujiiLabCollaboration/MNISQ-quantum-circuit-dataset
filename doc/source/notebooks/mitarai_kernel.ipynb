{
 "cells": [
  {
   "cell_type": "code",
   "execution_count": 10,
   "metadata": {},
   "outputs": [],
   "source": [
    "import matplotlib.pyplot as plt\n",
    "import numpy as np\n",
    "from qulacs import QuantumState\n",
    "import sklearn\n",
    "from sklearn.svm import SVC\n",
    "from sklearn.model_selection import train_test_split\n",
    "\n",
    "def show_figure(pict: np.array):\n",
    "    plt.imshow(pict.reshape(28, 28), cmap=\"Greys\")\n",
    "    plt.show()\n",
    "\n",
    "\n",
    "def show_state_figure(state: QuantumState):\n",
    "    pict = state.get_vector()\n",
    "    result = []\n",
    "    for x in range(28 * 28):\n",
    "        result.append(pict[x].real)\n",
    "    show_figure(np.array(result))\n",
    "\n",
    "def show_vector_figure(pict):\n",
    "    result = []\n",
    "    for x in range(28 * 28):\n",
    "        result.append(pict[x].real)\n",
    "    show_figure(np.array(result))"
   ]
  },
  {
   "cell_type": "code",
   "execution_count": 13,
   "metadata": {},
   "outputs": [
    {
     "name": "stderr",
     "output_type": "stream",
     "text": [
      "100%|██████████| 60000/60000 [00:01<00:00, 40280.26it/s]\n",
      "100%|██████████| 60000/60000 [00:01<00:00, 41013.16it/s]\n",
      "100%|██████████| 60000/60000 [00:01<00:00, 35739.71it/s]\n",
      "100%|██████████| 60000/60000 [00:01<00:00, 36385.91it/s]\n",
      "/tmp/ipykernel_1035/318562461.py:46: ComplexWarning: Casting complex values to real discards the imaginary part\n",
      "  x_all[i] = states[j].get_vector()\n",
      "/tmp/ipykernel_1035/318562461.py:49: ComplexWarning: Casting complex values to real discards the imaginary part\n",
      "  quantum_x_all[i] = state.get_vector()\n"
     ]
    },
    {
     "name": "stdout",
     "output_type": "stream",
     "text": [
      "calculating kernel\n"
     ]
    },
    {
     "name": "stderr",
     "output_type": "stream",
     "text": [
      "100%|██████████| 12000/12000 [02:10<00:00, 92.24it/s]  \n",
      "100%|██████████| 8000/8000 [02:26<00:00, 54.43it/s]\n"
     ]
    },
    {
     "name": "stdout",
     "output_type": "stream",
     "text": [
      "mnist_large_f90 Test Accuracy :  0.96125\n"
     ]
    }
   ],
   "source": [
    "from mnisq.mnist import load_large_f80 as mnist_large_f80 \n",
    "from mnisq.fashion_mnist import load_large_f80 as fashion_mnist_large_f80 \n",
    "from mnisq.kuzushiji_mnist import load_large_f80 as kuzushiji_mnist_large_f80 \n",
    "from mnisq.mnist import load_small_f80 as mnist_small_f80 \n",
    "from mnisq.fashion_mnist import load_small_f80 as fashion_mnist_small_f80 \n",
    "from mnisq.kuzushiji_mnist import load_small_f80 as kuzushiji_mnist_small_f80 \n",
    "from mnisq.mnist import load_large_f90 as mnist_large_f90 \n",
    "from qulacs.state import inner_product\n",
    "import numpy as np\n",
    "from tqdm import tqdm\n",
    "\n",
    "# fのあとに続く数字が大きいほど、精度と量子回路のサイズが大きい。\n",
    "# 80,90,95というチョイスは今のところ意味はない。\n",
    "\n",
    "dataset_list = [\n",
    "  #{\n",
    "  #  \"name\": \"kuzushiji_mnist_large_f80\",\n",
    "  #  \"loader\": kuzushiji_mnist_large_f80\n",
    "  #},\n",
    "  #{\n",
    "  #  \"name\": \"fashion_mnist_large_f80\",\n",
    "  #  \"loader\": fashion_mnist_large_f80\n",
    "  #},\n",
    "  {\n",
    "    \"name\": \"mnist_large_f90\",\n",
    "    \"loader\": mnist_large_f90\n",
    "  }\n",
    "]\n",
    "\n",
    "for dataset in dataset_list:\n",
    "  data = dataset[\"loader\"]()\n",
    "  labels = data[\"label\"][:20000] # ラベル (integerの配列)\n",
    "  circuits = data[\"circuit\"][:20000] # 回路 (QuantumCircuitの配列)\n",
    "  states = data[\"state\"][:20000] # 回路にAQCEで変換する前の量子状態\n",
    "  qasms = data[\"qasm\"][:20000] # 回路のQASM文字列\n",
    "  \n",
    "  del data\n",
    "  \n",
    "  labels = np.array(labels, dtype=int)\n",
    "  indices = np.where((labels!=-1))[0]\n",
    "  x_all = np.zeros((len(indices), len(states[0].get_vector())))\n",
    "  y_all = np.zeros(len(indices), dtype=int)\n",
    "  quantum_x_all = np.zeros((len(indices), len(states[0].get_vector())))\n",
    "  state = states[0].copy()\n",
    "  for i,j in enumerate(indices):\n",
    "      x_all[i] = states[j].get_vector()\n",
    "      state.set_zero_state()\n",
    "      circuits[j].update_quantum_state(state)\n",
    "      quantum_x_all[i] = state.get_vector()\n",
    "      y_all[i] = labels[j]\n",
    "\n",
    "  #x_train, x_test, y_train, y_test = train_test_split(x_all, y_all, test_size=0.4, random_state=0)\n",
    "  q_x_train, q_x_test, q_y_train, q_y_test = train_test_split(quantum_x_all, y_all, test_size=0.4, random_state=0)\n",
    "  \n",
    "  # use the same circuit as scikit-qulacs do.\n",
    "  clf = SVC(kernel=\"precomputed\")\n",
    "  print(\"calculating kernel\")\n",
    "  train_kernel = np.zeros((len(q_x_train), len(q_x_train)))\n",
    "  for i in tqdm(range(len(q_x_train))):\n",
    "    for j in range(i,len(q_x_train)):\n",
    "      train_kernel[i][j] = abs(np.vdot(q_x_train[i],q_x_train[j])) ** 2\n",
    "      train_kernel[j][i] = train_kernel[i][j]\n",
    "  \n",
    "  clf.fit(train_kernel, q_y_train)\n",
    "  \n",
    "  test_kernel = np.zeros((len(q_x_test), len(q_x_train)))\n",
    "  for i in tqdm(range(len(q_x_test))):\n",
    "    for j in range(len(q_x_train)):\n",
    "      test_kernel[i][j] = abs(np.vdot(q_x_test[i],q_x_train[j])) ** 2\n",
    "  pred = clf.predict(test_kernel)\n",
    "  print(f\"{dataset['name']} Test Accuracy : \", (pred == q_y_test).mean())\n",
    "  \n",
    "  del labels, circuits, states, qasms"
   ]
  },
  {
   "cell_type": "markdown",
   "metadata": {},
   "source": []
  },
  {
   "cell_type": "markdown",
   "metadata": {},
   "source": []
  },
  {
   "cell_type": "code",
   "execution_count": 12,
   "metadata": {},
   "outputs": [
    {
     "ename": "KeyboardInterrupt",
     "evalue": "",
     "output_type": "error",
     "traceback": [
      "\u001b[0;31m---------------------------------------------------------------------------\u001b[0m",
      "\u001b[0;31mKeyboardInterrupt\u001b[0m                         Traceback (most recent call last)",
      "Cell \u001b[0;32mIn[12], line 12\u001b[0m\n\u001b[1;32m      9\u001b[0m \u001b[38;5;28;01mfrom\u001b[39;00m \u001b[38;5;21;01mtqdm\u001b[39;00m \u001b[38;5;28;01mimport\u001b[39;00m tqdm\n\u001b[1;32m     11\u001b[0m \u001b[38;5;28;01mfor\u001b[39;00m dataset \u001b[38;5;129;01min\u001b[39;00m dataset_list:\n\u001b[0;32m---> 12\u001b[0m   data \u001b[38;5;241m=\u001b[39m \u001b[43mdataset\u001b[49m\u001b[43m[\u001b[49m\u001b[38;5;124;43m\"\u001b[39;49m\u001b[38;5;124;43mloader\u001b[39;49m\u001b[38;5;124;43m\"\u001b[39;49m\u001b[43m]\u001b[49m\u001b[43m(\u001b[49m\u001b[43m)\u001b[49m\n\u001b[1;32m     13\u001b[0m   labels \u001b[38;5;241m=\u001b[39m data[\u001b[38;5;124m\"\u001b[39m\u001b[38;5;124mlabel\u001b[39m\u001b[38;5;124m\"\u001b[39m][:\u001b[38;5;241m20000\u001b[39m] \u001b[38;5;66;03m# ラベル (integerの配列)\u001b[39;00m\n\u001b[1;32m     14\u001b[0m   circuits \u001b[38;5;241m=\u001b[39m data[\u001b[38;5;124m\"\u001b[39m\u001b[38;5;124mcircuit\u001b[39m\u001b[38;5;124m\"\u001b[39m][:\u001b[38;5;241m20000\u001b[39m] \u001b[38;5;66;03m# 回路 (QuantumCircuitの配列)\u001b[39;00m\n",
      "File \u001b[0;32m/workspace/mnisq/mnisq/mnist/loader.py:29\u001b[0m, in \u001b[0;36mload_large_f90\u001b[0;34m()\u001b[0m\n\u001b[1;32m     28\u001b[0m \u001b[39mdef\u001b[39;00m \u001b[39mload_large_f90\u001b[39m() \u001b[39m-\u001b[39m\u001b[39m>\u001b[39m Dict[\u001b[39mstr\u001b[39m, Any]:\n\u001b[0;32m---> 29\u001b[0m     \u001b[39mreturn\u001b[39;00m load_dataset(URL \u001b[39m+\u001b[39;49m \u001b[39m\"\u001b[39;49m\u001b[39m/mnist_large_f90.zip\u001b[39;49m\u001b[39m\"\u001b[39;49m)\n",
      "File \u001b[0;32m/workspace/mnisq/mnisq/internal/loader/mnist_like/load.py:16\u001b[0m, in \u001b[0;36mload_dataset\u001b[0;34m(download_URL)\u001b[0m\n\u001b[1;32m     15\u001b[0m \u001b[39mdef\u001b[39;00m \u001b[39mload_dataset\u001b[39m(download_URL: \u001b[39mstr\u001b[39m) \u001b[39m-\u001b[39m\u001b[39m>\u001b[39m Dict[\u001b[39mstr\u001b[39m, Any]:\n\u001b[0;32m---> 16\u001b[0m     downpath \u001b[39m=\u001b[39m download_dataset(download_URL)\n\u001b[1;32m     17\u001b[0m     local_path \u001b[39m=\u001b[39m unzip_dataset(downpath)\n\u001b[1;32m     18\u001b[0m     \u001b[39mreturn\u001b[39;00m _load_from_path(local_path)\n",
      "File \u001b[0;32m/workspace/mnisq/mnisq/internal/dataset/dataset.py:101\u001b[0m, in \u001b[0;36mdownload_dataset\u001b[0;34m(url, cache_dir)\u001b[0m\n\u001b[1;32m     99\u001b[0m \u001b[39mif\u001b[39;00m os\u001b[39m.\u001b[39mpath\u001b[39m.\u001b[39mexists(path) \u001b[39mis\u001b[39;00m \u001b[39mFalse\u001b[39;00m:\n\u001b[1;32m    100\u001b[0m     logger\u001b[39m.\u001b[39minfo(\u001b[39mf\u001b[39m\u001b[39m\"\u001b[39m\u001b[39mdownloading file from \u001b[39m\u001b[39m{\u001b[39;00murl\u001b[39m}\u001b[39;00m\u001b[39m ...\u001b[39m\u001b[39m\"\u001b[39m)\n\u001b[0;32m--> 101\u001b[0m     r \u001b[39m=\u001b[39m requests\u001b[39m.\u001b[39;49mget(url)\n\u001b[1;32m    102\u001b[0m     data \u001b[39m=\u001b[39m r\u001b[39m.\u001b[39mcontent\n\u001b[1;32m    104\u001b[0m     os\u001b[39m.\u001b[39mmakedirs(cache_dir, exist_ok\u001b[39m=\u001b[39m\u001b[39mTrue\u001b[39;00m)\n",
      "File \u001b[0;32m/workspace/mnisq/.venv/lib/python3.9/site-packages/requests/api.py:73\u001b[0m, in \u001b[0;36mget\u001b[0;34m(url, params, **kwargs)\u001b[0m\n\u001b[1;32m     62\u001b[0m \u001b[39mdef\u001b[39;00m \u001b[39mget\u001b[39m(url, params\u001b[39m=\u001b[39m\u001b[39mNone\u001b[39;00m, \u001b[39m*\u001b[39m\u001b[39m*\u001b[39mkwargs):\n\u001b[1;32m     63\u001b[0m     \u001b[39mr\u001b[39m\u001b[39m\"\"\"Sends a GET request.\u001b[39;00m\n\u001b[1;32m     64\u001b[0m \n\u001b[1;32m     65\u001b[0m \u001b[39m    :param url: URL for the new :class:`Request` object.\u001b[39;00m\n\u001b[0;32m   (...)\u001b[0m\n\u001b[1;32m     70\u001b[0m \u001b[39m    :rtype: requests.Response\u001b[39;00m\n\u001b[1;32m     71\u001b[0m \u001b[39m    \"\"\"\u001b[39;00m\n\u001b[0;32m---> 73\u001b[0m     \u001b[39mreturn\u001b[39;00m request(\u001b[39m\"\u001b[39;49m\u001b[39mget\u001b[39;49m\u001b[39m\"\u001b[39;49m, url, params\u001b[39m=\u001b[39;49mparams, \u001b[39m*\u001b[39;49m\u001b[39m*\u001b[39;49mkwargs)\n",
      "File \u001b[0;32m/workspace/mnisq/.venv/lib/python3.9/site-packages/requests/api.py:59\u001b[0m, in \u001b[0;36mrequest\u001b[0;34m(method, url, **kwargs)\u001b[0m\n\u001b[1;32m     55\u001b[0m \u001b[39m# By using the 'with' statement we are sure the session is closed, thus we\u001b[39;00m\n\u001b[1;32m     56\u001b[0m \u001b[39m# avoid leaving sockets open which can trigger a ResourceWarning in some\u001b[39;00m\n\u001b[1;32m     57\u001b[0m \u001b[39m# cases, and look like a memory leak in others.\u001b[39;00m\n\u001b[1;32m     58\u001b[0m \u001b[39mwith\u001b[39;00m sessions\u001b[39m.\u001b[39mSession() \u001b[39mas\u001b[39;00m session:\n\u001b[0;32m---> 59\u001b[0m     \u001b[39mreturn\u001b[39;00m session\u001b[39m.\u001b[39;49mrequest(method\u001b[39m=\u001b[39;49mmethod, url\u001b[39m=\u001b[39;49murl, \u001b[39m*\u001b[39;49m\u001b[39m*\u001b[39;49mkwargs)\n",
      "File \u001b[0;32m/workspace/mnisq/.venv/lib/python3.9/site-packages/requests/sessions.py:587\u001b[0m, in \u001b[0;36mSession.request\u001b[0;34m(self, method, url, params, data, headers, cookies, files, auth, timeout, allow_redirects, proxies, hooks, stream, verify, cert, json)\u001b[0m\n\u001b[1;32m    582\u001b[0m send_kwargs \u001b[39m=\u001b[39m {\n\u001b[1;32m    583\u001b[0m     \u001b[39m\"\u001b[39m\u001b[39mtimeout\u001b[39m\u001b[39m\"\u001b[39m: timeout,\n\u001b[1;32m    584\u001b[0m     \u001b[39m\"\u001b[39m\u001b[39mallow_redirects\u001b[39m\u001b[39m\"\u001b[39m: allow_redirects,\n\u001b[1;32m    585\u001b[0m }\n\u001b[1;32m    586\u001b[0m send_kwargs\u001b[39m.\u001b[39mupdate(settings)\n\u001b[0;32m--> 587\u001b[0m resp \u001b[39m=\u001b[39m \u001b[39mself\u001b[39;49m\u001b[39m.\u001b[39;49msend(prep, \u001b[39m*\u001b[39;49m\u001b[39m*\u001b[39;49msend_kwargs)\n\u001b[1;32m    589\u001b[0m \u001b[39mreturn\u001b[39;00m resp\n",
      "File \u001b[0;32m/workspace/mnisq/.venv/lib/python3.9/site-packages/requests/sessions.py:745\u001b[0m, in \u001b[0;36mSession.send\u001b[0;34m(self, request, **kwargs)\u001b[0m\n\u001b[1;32m    742\u001b[0m         \u001b[39mpass\u001b[39;00m\n\u001b[1;32m    744\u001b[0m \u001b[39mif\u001b[39;00m \u001b[39mnot\u001b[39;00m stream:\n\u001b[0;32m--> 745\u001b[0m     r\u001b[39m.\u001b[39;49mcontent\n\u001b[1;32m    747\u001b[0m \u001b[39mreturn\u001b[39;00m r\n",
      "File \u001b[0;32m/workspace/mnisq/.venv/lib/python3.9/site-packages/requests/models.py:899\u001b[0m, in \u001b[0;36mResponse.content\u001b[0;34m(self)\u001b[0m\n\u001b[1;32m    897\u001b[0m         \u001b[39mself\u001b[39m\u001b[39m.\u001b[39m_content \u001b[39m=\u001b[39m \u001b[39mNone\u001b[39;00m\n\u001b[1;32m    898\u001b[0m     \u001b[39melse\u001b[39;00m:\n\u001b[0;32m--> 899\u001b[0m         \u001b[39mself\u001b[39m\u001b[39m.\u001b[39m_content \u001b[39m=\u001b[39m \u001b[39mb\u001b[39;49m\u001b[39m\"\u001b[39;49m\u001b[39m\"\u001b[39;49m\u001b[39m.\u001b[39;49mjoin(\u001b[39mself\u001b[39;49m\u001b[39m.\u001b[39;49miter_content(CONTENT_CHUNK_SIZE)) \u001b[39mor\u001b[39;00m \u001b[39mb\u001b[39m\u001b[39m\"\u001b[39m\u001b[39m\"\u001b[39m\n\u001b[1;32m    901\u001b[0m \u001b[39mself\u001b[39m\u001b[39m.\u001b[39m_content_consumed \u001b[39m=\u001b[39m \u001b[39mTrue\u001b[39;00m\n\u001b[1;32m    902\u001b[0m \u001b[39m# don't need to release the connection; that's been handled by urllib3\u001b[39;00m\n\u001b[1;32m    903\u001b[0m \u001b[39m# since we exhausted the data.\u001b[39;00m\n",
      "File \u001b[0;32m/workspace/mnisq/.venv/lib/python3.9/site-packages/requests/models.py:816\u001b[0m, in \u001b[0;36mResponse.iter_content.<locals>.generate\u001b[0;34m()\u001b[0m\n\u001b[1;32m    814\u001b[0m \u001b[39mif\u001b[39;00m \u001b[39mhasattr\u001b[39m(\u001b[39mself\u001b[39m\u001b[39m.\u001b[39mraw, \u001b[39m\"\u001b[39m\u001b[39mstream\u001b[39m\u001b[39m\"\u001b[39m):\n\u001b[1;32m    815\u001b[0m     \u001b[39mtry\u001b[39;00m:\n\u001b[0;32m--> 816\u001b[0m         \u001b[39myield from\u001b[39;00m \u001b[39mself\u001b[39m\u001b[39m.\u001b[39mraw\u001b[39m.\u001b[39mstream(chunk_size, decode_content\u001b[39m=\u001b[39m\u001b[39mTrue\u001b[39;00m)\n\u001b[1;32m    817\u001b[0m     \u001b[39mexcept\u001b[39;00m ProtocolError \u001b[39mas\u001b[39;00m e:\n\u001b[1;32m    818\u001b[0m         \u001b[39mraise\u001b[39;00m ChunkedEncodingError(e)\n",
      "File \u001b[0;32m/workspace/mnisq/.venv/lib/python3.9/site-packages/urllib3/response.py:628\u001b[0m, in \u001b[0;36mHTTPResponse.stream\u001b[0;34m(self, amt, decode_content)\u001b[0m\n\u001b[1;32m    626\u001b[0m \u001b[39melse\u001b[39;00m:\n\u001b[1;32m    627\u001b[0m     \u001b[39mwhile\u001b[39;00m \u001b[39mnot\u001b[39;00m is_fp_closed(\u001b[39mself\u001b[39m\u001b[39m.\u001b[39m_fp):\n\u001b[0;32m--> 628\u001b[0m         data \u001b[39m=\u001b[39m \u001b[39mself\u001b[39;49m\u001b[39m.\u001b[39;49mread(amt\u001b[39m=\u001b[39;49mamt, decode_content\u001b[39m=\u001b[39;49mdecode_content)\n\u001b[1;32m    630\u001b[0m         \u001b[39mif\u001b[39;00m data:\n\u001b[1;32m    631\u001b[0m             \u001b[39myield\u001b[39;00m data\n",
      "File \u001b[0;32m/workspace/mnisq/.venv/lib/python3.9/site-packages/urllib3/response.py:567\u001b[0m, in \u001b[0;36mHTTPResponse.read\u001b[0;34m(self, amt, decode_content, cache_content)\u001b[0m\n\u001b[1;32m    564\u001b[0m fp_closed \u001b[39m=\u001b[39m \u001b[39mgetattr\u001b[39m(\u001b[39mself\u001b[39m\u001b[39m.\u001b[39m_fp, \u001b[39m\"\u001b[39m\u001b[39mclosed\u001b[39m\u001b[39m\"\u001b[39m, \u001b[39mFalse\u001b[39;00m)\n\u001b[1;32m    566\u001b[0m \u001b[39mwith\u001b[39;00m \u001b[39mself\u001b[39m\u001b[39m.\u001b[39m_error_catcher():\n\u001b[0;32m--> 567\u001b[0m     data \u001b[39m=\u001b[39m \u001b[39mself\u001b[39;49m\u001b[39m.\u001b[39;49m_fp_read(amt) \u001b[39mif\u001b[39;00m \u001b[39mnot\u001b[39;00m fp_closed \u001b[39melse\u001b[39;00m \u001b[39mb\u001b[39m\u001b[39m\"\u001b[39m\u001b[39m\"\u001b[39m\n\u001b[1;32m    568\u001b[0m     \u001b[39mif\u001b[39;00m amt \u001b[39mis\u001b[39;00m \u001b[39mNone\u001b[39;00m:\n\u001b[1;32m    569\u001b[0m         flush_decoder \u001b[39m=\u001b[39m \u001b[39mTrue\u001b[39;00m\n",
      "File \u001b[0;32m/workspace/mnisq/.venv/lib/python3.9/site-packages/urllib3/response.py:533\u001b[0m, in \u001b[0;36mHTTPResponse._fp_read\u001b[0;34m(self, amt)\u001b[0m\n\u001b[1;32m    530\u001b[0m     \u001b[39mreturn\u001b[39;00m buffer\u001b[39m.\u001b[39mgetvalue()\n\u001b[1;32m    531\u001b[0m \u001b[39melse\u001b[39;00m:\n\u001b[1;32m    532\u001b[0m     \u001b[39m# StringIO doesn't like amt=None\u001b[39;00m\n\u001b[0;32m--> 533\u001b[0m     \u001b[39mreturn\u001b[39;00m \u001b[39mself\u001b[39;49m\u001b[39m.\u001b[39;49m_fp\u001b[39m.\u001b[39;49mread(amt) \u001b[39mif\u001b[39;00m amt \u001b[39mis\u001b[39;00m \u001b[39mnot\u001b[39;00m \u001b[39mNone\u001b[39;00m \u001b[39melse\u001b[39;00m \u001b[39mself\u001b[39m\u001b[39m.\u001b[39m_fp\u001b[39m.\u001b[39mread()\n",
      "File \u001b[0;32m/usr/local/lib/python3.9/http/client.py:463\u001b[0m, in \u001b[0;36mHTTPResponse.read\u001b[0;34m(self, amt)\u001b[0m\n\u001b[1;32m    460\u001b[0m \u001b[39mif\u001b[39;00m amt \u001b[39mis\u001b[39;00m \u001b[39mnot\u001b[39;00m \u001b[39mNone\u001b[39;00m:\n\u001b[1;32m    461\u001b[0m     \u001b[39m# Amount is given, implement using readinto\u001b[39;00m\n\u001b[1;32m    462\u001b[0m     b \u001b[39m=\u001b[39m \u001b[39mbytearray\u001b[39m(amt)\n\u001b[0;32m--> 463\u001b[0m     n \u001b[39m=\u001b[39m \u001b[39mself\u001b[39;49m\u001b[39m.\u001b[39;49mreadinto(b)\n\u001b[1;32m    464\u001b[0m     \u001b[39mreturn\u001b[39;00m \u001b[39mmemoryview\u001b[39m(b)[:n]\u001b[39m.\u001b[39mtobytes()\n\u001b[1;32m    465\u001b[0m \u001b[39melse\u001b[39;00m:\n\u001b[1;32m    466\u001b[0m     \u001b[39m# Amount is not given (unbounded read) so we must check self.length\u001b[39;00m\n\u001b[1;32m    467\u001b[0m     \u001b[39m# and self.chunked\u001b[39;00m\n",
      "File \u001b[0;32m/usr/local/lib/python3.9/http/client.py:507\u001b[0m, in \u001b[0;36mHTTPResponse.readinto\u001b[0;34m(self, b)\u001b[0m\n\u001b[1;32m    502\u001b[0m         b \u001b[39m=\u001b[39m \u001b[39mmemoryview\u001b[39m(b)[\u001b[39m0\u001b[39m:\u001b[39mself\u001b[39m\u001b[39m.\u001b[39mlength]\n\u001b[1;32m    504\u001b[0m \u001b[39m# we do not use _safe_read() here because this may be a .will_close\u001b[39;00m\n\u001b[1;32m    505\u001b[0m \u001b[39m# connection, and the user is reading more bytes than will be provided\u001b[39;00m\n\u001b[1;32m    506\u001b[0m \u001b[39m# (for example, reading in 1k chunks)\u001b[39;00m\n\u001b[0;32m--> 507\u001b[0m n \u001b[39m=\u001b[39m \u001b[39mself\u001b[39;49m\u001b[39m.\u001b[39;49mfp\u001b[39m.\u001b[39;49mreadinto(b)\n\u001b[1;32m    508\u001b[0m \u001b[39mif\u001b[39;00m \u001b[39mnot\u001b[39;00m n \u001b[39mand\u001b[39;00m b:\n\u001b[1;32m    509\u001b[0m     \u001b[39m# Ideally, we would raise IncompleteRead if the content-length\u001b[39;00m\n\u001b[1;32m    510\u001b[0m     \u001b[39m# wasn't satisfied, but it might break compatibility.\u001b[39;00m\n\u001b[1;32m    511\u001b[0m     \u001b[39mself\u001b[39m\u001b[39m.\u001b[39m_close_conn()\n",
      "File \u001b[0;32m/usr/local/lib/python3.9/socket.py:704\u001b[0m, in \u001b[0;36mSocketIO.readinto\u001b[0;34m(self, b)\u001b[0m\n\u001b[1;32m    702\u001b[0m \u001b[39mwhile\u001b[39;00m \u001b[39mTrue\u001b[39;00m:\n\u001b[1;32m    703\u001b[0m     \u001b[39mtry\u001b[39;00m:\n\u001b[0;32m--> 704\u001b[0m         \u001b[39mreturn\u001b[39;00m \u001b[39mself\u001b[39;49m\u001b[39m.\u001b[39;49m_sock\u001b[39m.\u001b[39;49mrecv_into(b)\n\u001b[1;32m    705\u001b[0m     \u001b[39mexcept\u001b[39;00m timeout:\n\u001b[1;32m    706\u001b[0m         \u001b[39mself\u001b[39m\u001b[39m.\u001b[39m_timeout_occurred \u001b[39m=\u001b[39m \u001b[39mTrue\u001b[39;00m\n",
      "File \u001b[0;32m/usr/local/lib/python3.9/ssl.py:1241\u001b[0m, in \u001b[0;36mSSLSocket.recv_into\u001b[0;34m(self, buffer, nbytes, flags)\u001b[0m\n\u001b[1;32m   1237\u001b[0m     \u001b[39mif\u001b[39;00m flags \u001b[39m!=\u001b[39m \u001b[39m0\u001b[39m:\n\u001b[1;32m   1238\u001b[0m         \u001b[39mraise\u001b[39;00m \u001b[39mValueError\u001b[39;00m(\n\u001b[1;32m   1239\u001b[0m           \u001b[39m\"\u001b[39m\u001b[39mnon-zero flags not allowed in calls to recv_into() on \u001b[39m\u001b[39m%s\u001b[39;00m\u001b[39m\"\u001b[39m \u001b[39m%\u001b[39m\n\u001b[1;32m   1240\u001b[0m           \u001b[39mself\u001b[39m\u001b[39m.\u001b[39m\u001b[39m__class__\u001b[39m)\n\u001b[0;32m-> 1241\u001b[0m     \u001b[39mreturn\u001b[39;00m \u001b[39mself\u001b[39;49m\u001b[39m.\u001b[39;49mread(nbytes, buffer)\n\u001b[1;32m   1242\u001b[0m \u001b[39melse\u001b[39;00m:\n\u001b[1;32m   1243\u001b[0m     \u001b[39mreturn\u001b[39;00m \u001b[39msuper\u001b[39m()\u001b[39m.\u001b[39mrecv_into(buffer, nbytes, flags)\n",
      "File \u001b[0;32m/usr/local/lib/python3.9/ssl.py:1099\u001b[0m, in \u001b[0;36mSSLSocket.read\u001b[0;34m(self, len, buffer)\u001b[0m\n\u001b[1;32m   1097\u001b[0m \u001b[39mtry\u001b[39;00m:\n\u001b[1;32m   1098\u001b[0m     \u001b[39mif\u001b[39;00m buffer \u001b[39mis\u001b[39;00m \u001b[39mnot\u001b[39;00m \u001b[39mNone\u001b[39;00m:\n\u001b[0;32m-> 1099\u001b[0m         \u001b[39mreturn\u001b[39;00m \u001b[39mself\u001b[39;49m\u001b[39m.\u001b[39;49m_sslobj\u001b[39m.\u001b[39;49mread(\u001b[39mlen\u001b[39;49m, buffer)\n\u001b[1;32m   1100\u001b[0m     \u001b[39melse\u001b[39;00m:\n\u001b[1;32m   1101\u001b[0m         \u001b[39mreturn\u001b[39;00m \u001b[39mself\u001b[39m\u001b[39m.\u001b[39m_sslobj\u001b[39m.\u001b[39mread(\u001b[39mlen\u001b[39m)\n",
      "\u001b[0;31mKeyboardInterrupt\u001b[0m: "
     ]
    }
   ],
   "source": [
    "from mnisq.mnist import load_large_f80 as mnist_large_f80 \n",
    "from mnisq.fashion_mnist import load_large_f80 as fashion_mnist_large_f80 \n",
    "from mnisq.kuzushiji_mnist import load_large_f80 as kuzushiji_mnist_large_f80 \n",
    "from mnisq.mnist import load_small_f80 as mnist_small_f80 \n",
    "from mnisq.fashion_mnist import load_small_f80 as fashion_mnist_small_f80 \n",
    "from mnisq.kuzushiji_mnist import load_small_f80 as kuzushiji_mnist_small_f80 \n",
    "from qulacs.state import inner_product\n",
    "import numpy as np\n",
    "from tqdm import tqdm\n",
    "\n",
    "for dataset in dataset_list:\n",
    "  data = dataset[\"loader\"]()\n",
    "  labels = data[\"label\"][:20000] # ラベル (integerの配列)\n",
    "  circuits = data[\"circuit\"][:20000] # 回路 (QuantumCircuitの配列)\n",
    "  states = data[\"state\"][:20000] # 回路にAQCEで変換する前の量子状態\n",
    "  qasms = data[\"qasm\"][:20000] # 回路のQASM文字列\n",
    "  \n",
    "  del data\n",
    "  \n",
    "  labels = np.array(labels, dtype=int)\n",
    "  indices = np.where((labels!=-1))[0]\n",
    "  x_all = np.zeros((len(indices), len(states[0].get_vector())))\n",
    "  y_all = np.zeros(len(indices), dtype=int)\n",
    "  quantum_x_all = np.zeros((len(indices), len(states[0].get_vector())))\n",
    "  state = states[0].copy()\n",
    "  for i,j in enumerate(indices):\n",
    "      x_all[i] = states[j].get_vector()\n",
    "      #state.set_zero_state()\n",
    "      #circuits[j].update_quantum_state(state)\n",
    "      #quantum_x_all[i] = state.get_vector()\n",
    "      y_all[i] = labels[j]\n",
    "\n",
    "  x_train, x_test, y_train, y_test = train_test_split(x_all, y_all, test_size=0.4, random_state=0)\n",
    "  q_x_train, q_x_test, q_y_train, q_y_test = train_test_split(quantum_x_all, y_all, test_size=0.4, random_state=0)\n",
    "  \n",
    "  # use the same circuit as scikit-qulacs do.\n",
    "  clf = SVC(kernel=\"linear\")\n",
    "  \n",
    "  clf.fit(x_train, y_train)\n",
    "  \n",
    "  pred = clf.predict(x_test)\n",
    "  print(f\"{dataset['name']} Test Accuracy : \", (pred == y_test).mean())\n",
    "  \n",
    "  del labels, circuits, states, qasms"
   ]
  }
 ],
 "metadata": {
  "kernelspec": {
   "display_name": "Python 3.9.15 ('.venv': poetry)",
   "language": "python",
   "name": "python3"
  },
  "language_info": {
   "codemirror_mode": {
    "name": "ipython",
    "version": 3
   },
   "file_extension": ".py",
   "mimetype": "text/x-python",
   "name": "python",
   "nbconvert_exporter": "python",
   "pygments_lexer": "ipython3",
   "version": "3.9.10"
  },
  "orig_nbformat": 4,
  "vscode": {
   "interpreter": {
    "hash": "4f95cf8b1a182521de409a467d8bf7e03bb650d14264a6ac11ccef0625745a4e"
   }
  }
 },
 "nbformat": 4,
 "nbformat_minor": 2
}
