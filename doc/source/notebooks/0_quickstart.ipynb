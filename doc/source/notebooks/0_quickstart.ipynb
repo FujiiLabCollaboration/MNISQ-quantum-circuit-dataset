{
 "cells": [
  {
   "attachments": {},
   "cell_type": "markdown",
   "metadata": {},
   "source": [
    "# Quick start\n",
    "\n",
    "本ライブラリは、各種データセットをQulacsの量子回路として保存したものを提供します。\n",
    "まずは手書き数字のデータセットである [MNIST](http://yann.lecun.com/exdb/mnist/) を読み込んでみましょう。\n",
    "データセットを読み込むと、その情報がすべて入ったDictオブジェクトが(メモリ上に展開された状態で)返ります。"
   ]
  },
  {
   "cell_type": "code",
   "execution_count": null,
   "metadata": {},
   "outputs": [],
   "source": [
    "!pip install mnisq"
   ]
  },
  {
   "cell_type": "code",
   "execution_count": null,
   "metadata": {},
   "outputs": [],
   "source": [
    "from mnisq.mnist import load_mnist_test_f80\n",
    "\n",
    "dataset = load_mnist_test_f80()\n",
    "print(f\"dataset contains:\")\n",
    "for key in dataset:\n",
    "  print(key)"
   ]
  },
  {
   "attachments": {},
   "cell_type": "markdown",
   "metadata": {},
   "source": [
    "このデータセットには、以下の情報が含まれています。\n",
    "- `state`: 元データから振幅エンコーディングされた量子状態\n",
    "- `circuit`: `state`を有限個の2量子ビット密度演算子で近似した量子回路\n",
    "- `qasm`: `circuit`のQASM表現\n",
    "- `fidelity`: `state`と、`circuit`から作成された量子状態との内積値の2乗\n",
    "- `label`: ラベル\n",
    "\n",
    "データセットから5枚分の情報を見てみましょう。"
   ]
  },
  {
   "cell_type": "code",
   "execution_count": null,
   "metadata": {},
   "outputs": [],
   "source": [
    "from qulacs import QuantumState\n",
    "import numpy as np\n",
    "import matplotlib.pyplot as plt\n",
    "\n",
    "def show_figure(pict: np.array):\n",
    "    plt.imshow(pict.reshape(28, 28), cmap=\"Greys\")\n",
    "    plt.show()\n",
    "\n",
    "\n",
    "def show_state_figure(state: QuantumState):\n",
    "    pict = state.get_vector()\n",
    "    result = []\n",
    "    for x in range(28 * 28):\n",
    "        result.append(pict[x].real)\n",
    "    show_figure(np.array(result))\n",
    "\n",
    "\n",
    "for itr in range(5):\n",
    "  # preparation\n",
    "  label = dataset[\"label\"][itr]\n",
    "  fidelity = dataset[\"fidelity\"][itr]\n",
    "  original_state = dataset[\"state\"][itr]\n",
    "  circuit = dataset[\"circuit\"][itr]\n",
    "  approx_state = QuantumState(circuit.get_qubit_count())\n",
    "  circuit.update_quantum_state(approx_state)\n",
    "  \n",
    "  print(f\"label = {label} fidelity = {fidelity}\")\n",
    "  show_state_figure(original_state)\n",
    "  show_state_figure(approx_state)"
   ]
  },
  {
   "attachments": {},
   "cell_type": "markdown",
   "metadata": {},
   "source": [
    "MNISTの他に、[Fashion-MNIST](https://github.com/zalandoresearch/fashion-mnist) や [Kuzushiji-MNIST](https://github.com/ranihorev/Kuzushiji_MNIST) に対応しています。"
   ]
  },
  {
   "cell_type": "code",
   "execution_count": null,
   "metadata": {},
   "outputs": [],
   "source": [
    "\n",
    "from mnisq.fashion_mnist import load_Fashion_test_f80 as load_fashion_mnist\n",
    "from mnisq.kuzushiji_mnist import load_Kuzushiji_test_f80 as load_kuzushiji_mnist\n",
    "\n",
    "fashion_dataset = load_fashion_mnist()\n",
    "kuzushiji_dataset = load_kuzushiji_mnist()\n",
    "\n",
    "print(\"Fashion MNIST\")\n",
    "\n",
    "for itr in range(2):\n",
    "  # preparation\n",
    "  label = fashion_dataset[\"label\"][itr]\n",
    "  fidelity = fashion_dataset[\"fidelity\"][itr]\n",
    "  circuit = fashion_dataset[\"circuit\"][itr]\n",
    "  print(circuit)\n",
    "  approx_state = QuantumState(circuit.get_qubit_count())\n",
    "  circuit.update_quantum_state(approx_state)\n",
    "  \n",
    "  print(f\"label = {label} fidelity = {fidelity}\")\n",
    "  show_state_figure(approx_state)\n",
    "\n",
    "\n",
    "print(\"Kuzushiji MNIST\")\n",
    "\n",
    "for itr in range(2):\n",
    "  # preparation\n",
    "  label = kuzushiji_dataset[\"label\"][itr]\n",
    "  fidelity = kuzushiji_dataset[\"fidelity\"][itr]\n",
    "  circuit = kuzushiji_dataset[\"circuit\"][itr]\n",
    "  approx_state = QuantumState(circuit.get_qubit_count())\n",
    "  circuit.update_quantum_state(approx_state)\n",
    "  \n",
    "  print(f\"label = {label} fidelity = {fidelity}\")\n",
    "  show_state_figure(approx_state)\n"
   ]
  },
  {
   "cell_type": "code",
   "execution_count": null,
   "metadata": {},
   "outputs": [],
   "source": [
    "from qulacs import QuantumState\n",
    "import numpy as np\n",
    "import matplotlib.pyplot as plt\n",
    "\n",
    "from mnisq.config import download_URL as URL\n",
    "from mnisq.internal.loader.mnist_like import load_mnist_like_dataset\n",
    "#from mnisq.mnist import load_base_mnist_test_f80\n",
    "\n",
    "dataset = load_mnist_like_dataset(URL + \"/base_test_mnist_784_f90.zip\")\n",
    "#dataset = load_mnist_like_dataset(URL + \"/test_mnist_784_f90.zip\")\n",
    "\n",
    "def show_figure(pict: np.array):\n",
    "    plt.imshow(pict.reshape(28, 28), cmap=\"Greys\")\n",
    "    plt.show()\n",
    "\n",
    "def show_state_figure(state: QuantumState):\n",
    "    pict = state.get_vector()\n",
    "    result = []\n",
    "    for x in range(28 * 28):\n",
    "        result.append(pict[x].real)\n",
    "    show_figure(np.array(result))\n",
    "\n",
    "for itr in range(1):\n",
    "  # preparation\n",
    "  label = dataset[\"label\"][itr]\n",
    "  fidelity = dataset[\"fidelity\"][itr]\n",
    "  original_state = dataset[\"state\"][itr]\n",
    "  circuit = dataset[\"circuit\"][itr]\n",
    "  approx_state = QuantumState(circuit.get_qubit_count())\n",
    "  circuit.update_quantum_state(approx_state)\n",
    "  print(circuit)\n",
    "  \n",
    "  print(f\"label = {label} fidelity = {fidelity}\")\n",
    "  show_state_figure(original_state)\n",
    "  show_state_figure(approx_state)"
   ]
  },
  {
   "cell_type": "code",
   "execution_count": null,
   "metadata": {},
   "outputs": [],
   "source": []
  }
 ],
 "metadata": {
  "kernelspec": {
   "display_name": "Python 3.9.15 ('.venv': poetry)",
   "language": "python",
   "name": "python3"
  },
  "language_info": {
   "codemirror_mode": {
    "name": "ipython",
    "version": 3
   },
   "file_extension": ".py",
   "mimetype": "text/x-python",
   "name": "python",
   "nbconvert_exporter": "python",
   "pygments_lexer": "ipython3",
   "version": "3.10.10"
  },
  "orig_nbformat": 4,
  "vscode": {
   "interpreter": {
    "hash": "4f95cf8b1a182521de409a467d8bf7e03bb650d14264a6ac11ccef0625745a4e"
   }
  }
 },
 "nbformat": 4,
 "nbformat_minor": 2
}
