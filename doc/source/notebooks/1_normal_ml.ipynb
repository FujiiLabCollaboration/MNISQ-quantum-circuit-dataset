{
 "cells": [
  {
   "cell_type": "markdown",
   "metadata": {},
   "source": [
    "まずはデータセットを取得しよう。"
   ]
  },
  {
   "cell_type": "code",
   "execution_count": 1,
   "metadata": {},
   "outputs": [
    {
     "name": "stderr",
     "output_type": "stream",
     "text": [
      "/workspace/qulacs_dataset/.venv/lib/python3.9/site-packages/sklearn/datasets/_openml.py:932: FutureWarning: The default value of `parser` will change from `'liac-arff'` to `'auto'` in 1.4. You can set `parser='auto'` to silence this warning. Therefore, an `ImportError` will be raised from 1.4 if the dataset is dense and pandas is not installed. Note that the pandas parser may return different data types. See the Notes Section in fetch_openml's API doc for details.\n",
      "  warn(\n"
     ]
    }
   ],
   "source": [
    "# 古典のデータセットをscikit-learnから取得\n",
    "from sklearn import datasets\n",
    "from sklearn.model_selection import train_test_split\n",
    "\n",
    "X, y = datasets.fetch_openml('mnist_784', version=1, return_X_y=True)\n",
    "X = X[:60000]\n",
    "y = y[:60000]\n",
    "classic_X_train, classic_X_test, classic_y_train, classic_y_test = train_test_split(X / 255, # ピクセル値が 0 - 1 になるようにする\n",
    "                                                        y.astype('int64'), # 正解データを数値にする\n",
    "                                                        stratify = y,\n",
    "                                                        random_state=0)"
   ]
  },
  {
   "cell_type": "code",
   "execution_count": 4,
   "metadata": {},
   "outputs": [
    {
     "name": "stderr",
     "output_type": "stream",
     "text": [
      "100%|██████████| 60000/60000 [00:02<00:00, 27731.84it/s]\n",
      "100%|██████████| 60000/60000 [00:02<00:00, 23123.07it/s]\n",
      "100%|██████████| 60000/60000 [00:02<00:00, 23769.09it/s]\n",
      "100%|██████████| 60000/60000 [00:06<00:00, 9012.95it/s]\n"
     ]
    }
   ],
   "source": [
    "# 量子のデータセットをqulacs_datasetから取得\n",
    "from qulacs_dataset.mnist import load_large_f90\n",
    "from qulacs import QuantumState, QuantumCircuit\n",
    "import numpy as np\n",
    "\n",
    "def generate_data(circuit:QuantumCircuit) -> np.array:\n",
    "  state = QuantumState(10)\n",
    "  circuit.update_quantum_state(state)\n",
    "  return state.get_vector().real\n",
    "\n",
    "items = load_large_f90()\n",
    "quantum_X_train = [generate_data(x) for x in items[\"circuit\"][:450]]\n",
    "quantum_y_train = items[\"label\"][:450]\n",
    "quantum_X_test = [generate_data(x) for x in items[\"circuit\"][450:]]\n",
    "quantum_y_test = items[\"label\"][450:]"
   ]
  },
  {
   "cell_type": "markdown",
   "metadata": {},
   "source": [
    "# ロジスティック回帰\n",
    "\n",
    "まずは定番のロジスティック回帰から実験してみる。"
   ]
  },
  {
   "cell_type": "code",
   "execution_count": 2,
   "metadata": {},
   "outputs": [
    {
     "ename": "NameError",
     "evalue": "name 'classic_X_train' is not defined",
     "output_type": "error",
     "traceback": [
      "\u001b[0;31m---------------------------------------------------------------------------\u001b[0m",
      "\u001b[0;31mNameError\u001b[0m                                 Traceback (most recent call last)",
      "Cell \u001b[0;32mIn[2], line 4\u001b[0m\n\u001b[1;32m      1\u001b[0m \u001b[38;5;28;01mfrom\u001b[39;00m \u001b[38;5;21;01msklearn\u001b[39;00m\u001b[38;5;21;01m.\u001b[39;00m\u001b[38;5;21;01mlinear_model\u001b[39;00m \u001b[38;5;28;01mimport\u001b[39;00m LogisticRegression, LinearRegression\n\u001b[1;32m      3\u001b[0m clf \u001b[38;5;241m=\u001b[39m LogisticRegression(solver\u001b[38;5;241m=\u001b[39m\u001b[38;5;124m'\u001b[39m\u001b[38;5;124mlbfgs\u001b[39m\u001b[38;5;124m'\u001b[39m, multi_class\u001b[38;5;241m=\u001b[39m\u001b[38;5;124m'\u001b[39m\u001b[38;5;124mauto\u001b[39m\u001b[38;5;124m'\u001b[39m)\n\u001b[0;32m----> 4\u001b[0m clf\u001b[38;5;241m.\u001b[39mfit(\u001b[43mclassic_X_train\u001b[49m, classic_y_train) \u001b[38;5;66;03m# 学習\u001b[39;00m\n\u001b[1;32m      5\u001b[0m \u001b[38;5;28mprint\u001b[39m(\u001b[38;5;124m'\u001b[39m\u001b[38;5;124m古典情報を入力としたときのaccuracy_score: \u001b[39m\u001b[38;5;132;01m%.3f\u001b[39;00m\u001b[38;5;124m'\u001b[39m \u001b[38;5;241m%\u001b[39m clf\u001b[38;5;241m.\u001b[39mscore(classic_X_test, classic_y_test)) \u001b[38;5;66;03m# 検証\u001b[39;00m\n",
      "\u001b[0;31mNameError\u001b[0m: name 'classic_X_train' is not defined"
     ]
    }
   ],
   "source": [
    "from sklearn.linear_model import LogisticRegression, LinearRegression\n",
    "\n",
    "clf = LogisticRegression(solver='lbfgs', multi_class='auto')\n",
    "clf.fit(classic_X_train, classic_y_train) # 学習\n",
    "print('古典情報を入力としたときのaccuracy_score: %.3f' % clf.score(classic_X_test, classic_y_test)) # 検証"
   ]
  },
  {
   "cell_type": "code",
   "execution_count": 3,
   "metadata": {},
   "outputs": [
    {
     "name": "stdout",
     "output_type": "stream",
     "text": [
      "量子状態を入力としたときのaccuracy_score: 0.753\n"
     ]
    }
   ],
   "source": [
    "clf = LogisticRegression(solver='lbfgs', multi_class='auto')\n",
    "clf.fit(quantum_X_train, quantum_y_train) # 学習\n",
    "print('量子状態を入力としたときのaccuracy_score: %.3f' % clf.score(quantum_X_test, quantum_y_test)) # 検証"
   ]
  },
  {
   "cell_type": "markdown",
   "metadata": {},
   "source": [
    "## SVM\n"
   ]
  },
  {
   "cell_type": "code",
   "execution_count": 4,
   "metadata": {},
   "outputs": [
    {
     "ename": "NameError",
     "evalue": "name 'classic_X_train' is not defined",
     "output_type": "error",
     "traceback": [
      "\u001b[0;31m---------------------------------------------------------------------------\u001b[0m",
      "\u001b[0;31mNameError\u001b[0m                                 Traceback (most recent call last)",
      "Cell \u001b[0;32mIn[4], line 4\u001b[0m\n\u001b[1;32m      1\u001b[0m \u001b[38;5;28;01mfrom\u001b[39;00m \u001b[38;5;21;01msklearn\u001b[39;00m \u001b[38;5;28;01mimport\u001b[39;00m svm\n\u001b[1;32m      3\u001b[0m model \u001b[38;5;241m=\u001b[39m svm\u001b[38;5;241m.\u001b[39mSVC()\n\u001b[0;32m----> 4\u001b[0m model\u001b[38;5;241m.\u001b[39mfit(\u001b[43mclassic_X_train\u001b[49m, classic_y_train) \u001b[38;5;66;03m# 学習\u001b[39;00m\n\u001b[1;32m      5\u001b[0m \u001b[38;5;28mprint\u001b[39m(\u001b[38;5;124m'\u001b[39m\u001b[38;5;124m古典情報を入力としたときのaccuracy_score: \u001b[39m\u001b[38;5;132;01m%.3f\u001b[39;00m\u001b[38;5;124m'\u001b[39m \u001b[38;5;241m%\u001b[39m model\u001b[38;5;241m.\u001b[39mscore(classic_X_test, classic_y_test)) \u001b[38;5;66;03m# 検証\u001b[39;00m\n",
      "\u001b[0;31mNameError\u001b[0m: name 'classic_X_train' is not defined"
     ]
    }
   ],
   "source": [
    "from sklearn import svm\n",
    "\n",
    "model = svm.SVC()\n",
    "model.fit(classic_X_train, classic_y_train) # 学習\n",
    "print('古典情報を入力としたときのaccuracy_score: %.3f' % model.score(classic_X_test, classic_y_test)) # 検証"
   ]
  },
  {
   "cell_type": "code",
   "execution_count": 6,
   "metadata": {},
   "outputs": [
    {
     "name": "stdout",
     "output_type": "stream",
     "text": [
      "古典情報を入力としたときのaccuracy_score: 0.971\n"
     ]
    }
   ],
   "source": [
    "model = svm.SVC()\n",
    "model.fit(quantum_X_train, quantum_y_train) # 学習\n",
    "print('古典情報を入力としたときのaccuracy_score: %.3f' % model.score(quantum_X_test, quantum_y_test)) # 検証"
   ]
  }
 ],
 "metadata": {
  "kernelspec": {
   "display_name": "Python 3.9.15 ('.venv': poetry)",
   "language": "python",
   "name": "python3"
  },
  "language_info": {
   "codemirror_mode": {
    "name": "ipython",
    "version": 3
   },
   "file_extension": ".py",
   "mimetype": "text/x-python",
   "name": "python",
   "nbconvert_exporter": "python",
   "pygments_lexer": "ipython3",
   "version": "3.9.15"
  },
  "orig_nbformat": 4,
  "vscode": {
   "interpreter": {
    "hash": "4f95cf8b1a182521de409a467d8bf7e03bb650d14264a6ac11ccef0625745a4e"
   }
  }
 },
 "nbformat": 4,
 "nbformat_minor": 2
}
