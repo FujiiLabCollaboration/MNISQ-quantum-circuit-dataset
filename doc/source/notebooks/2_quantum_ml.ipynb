{
 "cells": [
  {
   "attachments": {},
   "cell_type": "markdown",
   "metadata": {},
   "source": [
    "まずはデータセットを取得しよう。"
   ]
  },
  {
   "cell_type": "code",
   "execution_count": 3,
   "metadata": {},
   "outputs": [
    {
     "name": "stderr",
     "output_type": "stream",
     "text": [
      "100%|██████████| 10000/10000 [00:00<00:00, 82331.98it/s]\n",
      "100%|██████████| 10000/10000 [00:00<00:00, 62970.92it/s]\n",
      "100%|██████████| 10000/10000 [00:00<00:00, 87303.85it/s]\n",
      "100%|██████████| 10000/10000 [00:00<00:00, 61152.78it/s]\n"
     ]
    }
   ],
   "source": [
    "import numpy as np\n",
    "\n",
    "from qulacs import QuantumState, QuantumCircuit\n",
    "from mnisq.mnist import load_mnist_test_f80\n",
    "\n",
    "def generate_data(circuit:QuantumCircuit) -> np.array:\n",
    "  state = QuantumState(10)\n",
    "  circuit.update_quantum_state(state)\n",
    "  return state.get_vector().real\n",
    "\n",
    "items = load_mnist_test_f80()\n",
    "x_train = np.array([generate_data(x) for x in items[\"circuit\"][:5000]])\n",
    "y_train = np.array(items[\"label\"][:5000])\n",
    "x_test = np.array([generate_data(x) for x in items[\"circuit\"][5000:]])\n",
    "y_test = np.array(items[\"label\"][5000:])\n"
   ]
  },
  {
   "cell_type": "code",
   "execution_count": 6,
   "metadata": {},
   "outputs": [
    {
     "name": "stdout",
     "output_type": "stream",
     "text": [
      "[1 1 1 ... 1 1 1]\n"
     ]
    }
   ],
   "source": [
    "from skqulacs.circuit import create_ibm_embedding_circuit\n",
    "from skqulacs.qsvm import QSVC\n",
    "n_qubit = 10                         # x_train の次元数以上必要。あまり小さいと結果が悪くなる。\n",
    "circuit = create_ibm_embedding_circuit(n_qubit)\n",
    "qsvm = QSVC(circuit)\n",
    "qsvm.fit(x_train[:3000], y_train[:3000])\n",
    "y_pred = qsvm.predict(x_test)\n",
    "print(y_pred)"
   ]
  },
  {
   "cell_type": "code",
   "execution_count": 5,
   "metadata": {},
   "outputs": [
    {
     "name": "stdout",
     "output_type": "stream",
     "text": [
      "0.02286815240833932\n"
     ]
    }
   ],
   "source": [
    "from sklearn.metrics import f1_score\n",
    "y_pred = qsvm.predict(x_test)\n",
    "print(f1_score(y_test, y_pred, average=\"weighted\"))"
   ]
  }
 ],
 "metadata": {
  "kernelspec": {
   "display_name": "Python 3.9.15 ('.venv': poetry)",
   "language": "python",
   "name": "python3"
  },
  "language_info": {
   "codemirror_mode": {
    "name": "ipython",
    "version": 3
   },
   "file_extension": ".py",
   "mimetype": "text/x-python",
   "name": "python",
   "nbconvert_exporter": "python",
   "pygments_lexer": "ipython3",
   "version": "3.10.10"
  },
  "orig_nbformat": 4,
  "vscode": {
   "interpreter": {
    "hash": "4f95cf8b1a182521de409a467d8bf7e03bb650d14264a6ac11ccef0625745a4e"
   }
  }
 },
 "nbformat": 4,
 "nbformat_minor": 2
}
