{
 "cells": [
  {
   "cell_type": "markdown",
   "metadata": {},
   "source": [
    "まずはデータセットを取得しよう。"
   ]
  },
  {
   "cell_type": "code",
   "execution_count": 2,
   "metadata": {},
   "outputs": [
    {
     "name": "stderr",
     "output_type": "stream",
     "text": [
      "100%|██████████| 60000/60000 [00:02<00:00, 27778.47it/s]\n",
      "100%|██████████| 60000/60000 [00:02<00:00, 25676.91it/s]\n",
      "100%|██████████| 60000/60000 [00:07<00:00, 8441.24it/s] \n",
      "100%|██████████| 60000/60000 [00:06<00:00, 8619.95it/s] \n"
     ]
    }
   ],
   "source": [
    "import pandas as pd\n",
    "from sklearn import datasets\n",
    "import numpy as np\n",
    "\n",
    "from qulacs import QuantumState, QuantumCircuit\n",
    "from mnisq.mnist import load_f80\n",
    "\n",
    "def generate_data(circuit:QuantumCircuit) -> np.array:\n",
    "  state = QuantumState(10)\n",
    "  circuit.update_quantum_state(state)\n",
    "  return state.get_vector().real\n",
    "\n",
    "items = load_f80()\n",
    "x_train = np.array([generate_data(x) for x in items[\"circuit\"][:45000]])\n",
    "y_train = np.array(items[\"label\"][:45000])\n",
    "x_test = np.array([generate_data(x) for x in items[\"circuit\"][45000:]])\n",
    "y_test = np.array(items[\"label\"][45000:])\n"
   ]
  },
  {
   "cell_type": "code",
   "execution_count": null,
   "metadata": {},
   "outputs": [],
   "source": [
    "from skqulacs.circuit import create_ibm_embedding_circuit\n",
    "from skqulacs.qsvm import QSVC\n",
    "n_qubit = 10                         # x_train の次元数以上必要。あまり小さいと結果が悪くなる。\n",
    "circuit = create_ibm_embedding_circuit(n_qubit)\n",
    "qsvm = QSVC(circuit)\n",
    "qsvm.fit(x_train[:3000], y_train[:3000])\n",
    "y_pred = qsvm.predict(x_test)"
   ]
  },
  {
   "cell_type": "code",
   "execution_count": null,
   "metadata": {},
   "outputs": [
    {
     "name": "stdout",
     "output_type": "stream",
     "text": [
      "0.020906031058143735\n"
     ]
    }
   ],
   "source": [
    "from sklearn.metrics import f1_score\n",
    "y_pred = qsvm.predict(x_test)\n",
    "print(f1_score(y_test, y_pred, average=\"weighted\"))"
   ]
  }
 ],
 "metadata": {
  "kernelspec": {
   "display_name": "Python 3.9.15 ('.venv': poetry)",
   "language": "python",
   "name": "python3"
  },
  "language_info": {
   "codemirror_mode": {
    "name": "ipython",
    "version": 3
   },
   "file_extension": ".py",
   "mimetype": "text/x-python",
   "name": "python",
   "nbconvert_exporter": "python",
   "pygments_lexer": "ipython3",
   "version": "3.9.15"
  },
  "orig_nbformat": 4,
  "vscode": {
   "interpreter": {
    "hash": "4f95cf8b1a182521de409a467d8bf7e03bb650d14264a6ac11ccef0625745a4e"
   }
  }
 },
 "nbformat": 4,
 "nbformat_minor": 2
}
